{
 "cells": [
  {
   "cell_type": "code",
   "execution_count": 1,
   "metadata": {},
   "outputs": [
    {
     "name": "stdout",
     "output_type": "stream",
     "text": [
      "\u001b[2K\n",
      "\u001b[2K\n",
      "Ultralytics YOLOv8.1.5 🚀 Python-3.9.0 torch-2.1.2 CUDA:0 (NVIDIA GeForce RTX 3050 Laptop GPU, 4096MiB)\n",
      "Setup complete ✅ (8 CPUs, 15.8 GB RAM, 445.8/455.6 GB disk)\n",
      "\n",
      "OS                  Windows-10-10.0.22621-SP0\n",
      "Environment         Windows\n",
      "Python              3.9.0\n",
      "Install             pip\n",
      "RAM                 15.78 GB\n",
      "CPU                 Intel Core(TM) i5-10200H 2.40GHz\n",
      "CUDA                12.1\n",
      "\n",
      "matplotlib          ✅ 3.8.2>=3.3.0\n",
      "numpy               ✅ 1.26.3>=1.22.2\n",
      "opencv-python       ✅ 4.9.0.80>=4.6.0\n",
      "pillow              ✅ 10.0.1>=7.1.2\n",
      "pyyaml              ✅ 6.0.1>=5.3.1\n",
      "requests            ✅ 2.31.0>=2.23.0\n",
      "scipy               ✅ 1.12.0>=1.4.1\n",
      "torch               ✅ 2.1.2>=1.8.0\n",
      "torchvision         ✅ 0.16.2>=0.9.0\n",
      "tqdm                ✅ 4.66.1>=4.64.0\n",
      "psutil              ✅ 5.9.0\n",
      "py-cpuinfo          ✅ 9.0.0\n",
      "thop                ✅ 0.1.1-2209072238>=0.1.1\n",
      "pandas              ✅ 2.2.0>=1.1.4\n",
      "seaborn             ✅ 0.13.1>=0.11.0\n"
     ]
    }
   ],
   "source": [
    "import os\n",
    "from ultralytics import YOLO\n",
    "from IPython.display import display, Image\n",
    "!yolo checks"
   ]
  },
  {
   "cell_type": "code",
   "execution_count": 12,
   "metadata": {},
   "outputs": [
    {
     "name": "stdout",
     "output_type": "stream",
     "text": [
      "loading Roboflow workspace...\n",
      "loading Roboflow project...\n",
      "Dependency ultralytics==8.0.196 is required but found version=8.1.5, to fix: `pip install ultralytics==8.0.196`\n"
     ]
    },
    {
     "name": "stderr",
     "output_type": "stream",
     "text": [
      "Downloading Dataset Version Zip in UI-Components-Detection-5 to yolov8:: 100%|██████████| 270518/270518 [00:22<00:00, 12131.95it/s]"
     ]
    },
    {
     "name": "stdout",
     "output_type": "stream",
     "text": [
      "\n"
     ]
    },
    {
     "name": "stderr",
     "output_type": "stream",
     "text": [
      "\n",
      "Extracting Dataset Version Zip to UI-Components-Detection-5 in yolov8:: 100%|██████████| 4260/4260 [00:02<00:00, 1623.57it/s]\n"
     ]
    }
   ],
   "source": [
    "from roboflow import Roboflow\n",
    "rf = Roboflow(api_key=\"nAD7Tl6AbKJueOFIcaqN\")\n",
    "project = rf.workspace(\"national-university-of-sciences-and-technology-nust\").project(\"ui-components-detection\")\n",
    "dataset = project.version(5).download(\"yolov8\")"
   ]
  },
  {
   "cell_type": "code",
   "execution_count": 3,
   "metadata": {},
   "outputs": [
    {
     "name": "stdout",
     "output_type": "stream",
     "text": [
      "Downloading https://github.com/ultralytics/assets/releases/download/v8.1.0/yolov8n.pt to 'yolov8n.pt'...\n",
      "Ultralytics YOLOv8.1.5 🚀 Python-3.9.0 torch-2.1.2 CUDA:0 (NVIDIA GeForce RTX 3050 Laptop GPU, 4096MiB)\n",
      "YOLOv8n summary (fused): 168 layers, 3151904 parameters, 0 gradients, 8.7 GFLOPs\n",
      "\n",
      "Downloading https://imagekit.io/blog/content/images/2019/12/image-optimization.jpg to 'image-optimization.jpg'...\n",
      "image 1/1 c:\\ArmaanSeth\\Object Detection\\UIcomponentDetection\\image-optimization.jpg: 448x640 1 person, 1 cup, 1 tv, 1 laptop, 1 mouse, 1 cell phone, 187.1ms\n",
      "Speed: 15.0ms preprocess, 187.1ms inference, 396.0ms postprocess per image at shape (1, 3, 448, 640)\n",
      "Results saved to \u001b[1mruns\\detect\\predict\u001b[0m\n",
      "💡 Learn more at https://docs.ultralytics.com/modes/predict\n"
     ]
    },
    {
     "name": "stderr",
     "output_type": "stream",
     "text": [
      "\n",
      "  0%|          | 0.00/6.23M [00:00<?, ?B/s]\n",
      " 41%|████      | 2.56M/6.23M [00:00<00:00, 23.3MB/s]\n",
      " 87%|████████▋ | 5.41M/6.23M [00:00<00:00, 26.2MB/s]\n",
      "100%|██████████| 6.23M/6.23M [00:00<00:00, 27.3MB/s]\n",
      "\n",
      "  0%|          | 0.00/77.6k [00:00<?, ?B/s]\n",
      "100%|██████████| 77.6k/77.6k [00:00<00:00, 2.37MB/s]\n"
     ]
    }
   ],
   "source": [
    "!yolo task=detect mode=predict model=yolov8n.pt conf=0.25 source=\"https://imagekit.io/blog/content/images/2019/12/image-optimization.jpg\""
   ]
  },
  {
   "cell_type": "code",
   "execution_count": 8,
   "metadata": {},
   "outputs": [
    {
     "data": {
      "text/plain": [
       "'c:\\\\ArmaanSeth\\\\Object Detection\\\\UIcomponentDetection'"
      ]
     },
     "execution_count": 8,
     "metadata": {},
     "output_type": "execute_result"
    }
   ],
   "source": [
    "%pwd"
   ]
  },
  {
   "cell_type": "code",
   "execution_count": 17,
   "metadata": {},
   "outputs": [
    {
     "name": "stdout",
     "output_type": "stream",
     "text": [
      "Ultralytics YOLOv8.1.5 🚀 Python-3.9.0 torch-2.1.2 CUDA:0 (NVIDIA GeForce RTX 3050 Laptop GPU, 4096MiB)\n",
      "\u001b[34m\u001b[1mengine\\trainer: \u001b[0mtask=detect, mode=train, model=yolov8n.pt, data=data.yaml, epochs=25, time=None, patience=50, batch=16, imgsz=800, save=True, save_period=-1, cache=False, device=None, workers=8, project=None, name=train15, exist_ok=False, pretrained=True, optimizer=auto, verbose=True, seed=0, deterministic=True, single_cls=False, rect=False, cos_lr=False, close_mosaic=10, resume=False, amp=True, fraction=1.0, profile=False, freeze=None, multi_scale=False, overlap_mask=True, mask_ratio=4, dropout=0.0, val=True, split=val, save_json=False, save_hybrid=False, conf=None, iou=0.7, max_det=300, half=False, dnn=False, plots=True, source=None, vid_stride=1, stream_buffer=False, visualize=False, augment=False, agnostic_nms=False, classes=None, retina_masks=False, embed=None, show=False, save_frames=False, save_txt=False, save_conf=False, save_crop=False, show_labels=True, show_conf=True, show_boxes=True, line_width=None, format=torchscript, keras=False, optimize=False, int8=False, dynamic=False, simplify=False, opset=None, workspace=4, nms=False, lr0=0.01, lrf=0.01, momentum=0.937, weight_decay=0.0005, warmup_epochs=3.0, warmup_momentum=0.8, warmup_bias_lr=0.1, box=7.5, cls=0.5, dfl=1.5, pose=12.0, kobj=1.0, label_smoothing=0.0, nbs=64, hsv_h=0.015, hsv_s=0.7, hsv_v=0.4, degrees=0.0, translate=0.1, scale=0.5, shear=0.0, perspective=0.0, flipud=0.0, fliplr=0.5, mosaic=1.0, mixup=0.0, copy_paste=0.0, auto_augment=randaugment, erasing=0.4, crop_fraction=1.0, cfg=None, tracker=botsort.yaml, save_dir=runs\\detect\\train15\n",
      "Downloading https://ultralytics.com/assets/Arial.ttf to 'C:\\Users\\Armaan\\AppData\\Roaming\\Ultralytics\\Arial.ttf'...\n",
      "Overriding model.yaml nc=80 with nc=14\n",
      "\n",
      "                   from  n    params  module                                       arguments                     \n",
      "  0                  -1  1       464  ultralytics.nn.modules.conv.Conv             [3, 16, 3, 2]                 \n",
      "  1                  -1  1      4672  ultralytics.nn.modules.conv.Conv             [16, 32, 3, 2]                \n",
      "  2                  -1  1      7360  ultralytics.nn.modules.block.C2f             [32, 32, 1, True]             \n",
      "  3                  -1  1     18560  ultralytics.nn.modules.conv.Conv             [32, 64, 3, 2]                \n",
      "  4                  -1  2     49664  ultralytics.nn.modules.block.C2f             [64, 64, 2, True]             \n",
      "  5                  -1  1     73984  ultralytics.nn.modules.conv.Conv             [64, 128, 3, 2]               \n",
      "  6                  -1  2    197632  ultralytics.nn.modules.block.C2f             [128, 128, 2, True]           \n",
      "  7                  -1  1    295424  ultralytics.nn.modules.conv.Conv             [128, 256, 3, 2]              \n",
      "  8                  -1  1    460288  ultralytics.nn.modules.block.C2f             [256, 256, 1, True]           \n",
      "  9                  -1  1    164608  ultralytics.nn.modules.block.SPPF            [256, 256, 5]                 \n",
      " 10                  -1  1         0  torch.nn.modules.upsampling.Upsample         [None, 2, 'nearest']          \n",
      " 11             [-1, 6]  1         0  ultralytics.nn.modules.conv.Concat           [1]                           \n",
      " 12                  -1  1    148224  ultralytics.nn.modules.block.C2f             [384, 128, 1]                 \n",
      " 13                  -1  1         0  torch.nn.modules.upsampling.Upsample         [None, 2, 'nearest']          \n",
      " 14             [-1, 4]  1         0  ultralytics.nn.modules.conv.Concat           [1]                           \n",
      " 15                  -1  1     37248  ultralytics.nn.modules.block.C2f             [192, 64, 1]                  \n",
      " 16                  -1  1     36992  ultralytics.nn.modules.conv.Conv             [64, 64, 3, 2]                \n",
      " 17            [-1, 12]  1         0  ultralytics.nn.modules.conv.Concat           [1]                           \n",
      " 18                  -1  1    123648  ultralytics.nn.modules.block.C2f             [192, 128, 1]                 \n",
      " 19                  -1  1    147712  ultralytics.nn.modules.conv.Conv             [128, 128, 3, 2]              \n",
      " 20             [-1, 9]  1         0  ultralytics.nn.modules.conv.Concat           [1]                           \n",
      " 21                  -1  1    493056  ultralytics.nn.modules.block.C2f             [384, 256, 1]                 \n",
      " 22        [15, 18, 21]  1    754042  ultralytics.nn.modules.head.Detect           [14, [64, 128, 256]]          \n",
      "Model summary: 225 layers, 3013578 parameters, 3013562 gradients, 8.2 GFLOPs\n",
      "\n",
      "Transferred 319/355 items from pretrained weights\n",
      "Freezing layer 'model.22.dfl.conv.weight'\n",
      "\u001b[34m\u001b[1mAMP: \u001b[0mrunning Automatic Mixed Precision (AMP) checks with YOLOv8n...\n",
      "\u001b[34m\u001b[1mAMP: \u001b[0mchecks passed ✅\n",
      "\u001b[34m\u001b[1mtrain: \u001b[0mWARNING ⚠️ C:\\ArmaanSeth\\Object Detection\\UIcomponentDetection\\datasets\\UI-Components-Detection-5\\train\\images\\1012_png.rf.08d9bb7cc470c229e175ea2e18621eba.jpg: 6 duplicate labels removed\n",
      "\u001b[34m\u001b[1mtrain: \u001b[0mWARNING ⚠️ C:\\ArmaanSeth\\Object Detection\\UIcomponentDetection\\datasets\\UI-Components-Detection-5\\train\\images\\1018_png.rf.4060c3aa12fd4897886a035f21128532.jpg: 1 duplicate labels removed\n",
      "\u001b[34m\u001b[1mtrain: \u001b[0mWARNING ⚠️ C:\\ArmaanSeth\\Object Detection\\UIcomponentDetection\\datasets\\UI-Components-Detection-5\\train\\images\\1085_png.rf.ec436db9e592cc6f4ac6fceed68df26f.jpg: 1 duplicate labels removed\n",
      "\u001b[34m\u001b[1mtrain: \u001b[0mWARNING ⚠️ C:\\ArmaanSeth\\Object Detection\\UIcomponentDetection\\datasets\\UI-Components-Detection-5\\train\\images\\1086_png.rf.fd6a1093725144bef3debff14669b0eb.jpg: 1 duplicate labels removed\n",
      "\u001b[34m\u001b[1mtrain: \u001b[0mWARNING ⚠️ C:\\ArmaanSeth\\Object Detection\\UIcomponentDetection\\datasets\\UI-Components-Detection-5\\train\\images\\1087_png.rf.e07d95a47c84888aebc96ba963d2753b.jpg: 1 duplicate labels removed\n",
      "\u001b[34m\u001b[1mtrain: \u001b[0mWARNING ⚠️ C:\\ArmaanSeth\\Object Detection\\UIcomponentDetection\\datasets\\UI-Components-Detection-5\\train\\images\\127_png.rf.a630493024af32ca8c1cf71697ac29a7.jpg: 1 duplicate labels removed\n",
      "\u001b[34m\u001b[1mtrain: \u001b[0mWARNING ⚠️ C:\\ArmaanSeth\\Object Detection\\UIcomponentDetection\\datasets\\UI-Components-Detection-5\\train\\images\\128_png.rf.ef525162d61982e6fe821a17d9a09df6.jpg: 2 duplicate labels removed\n",
      "\u001b[34m\u001b[1mtrain: \u001b[0mWARNING ⚠️ C:\\ArmaanSeth\\Object Detection\\UIcomponentDetection\\datasets\\UI-Components-Detection-5\\train\\images\\148_png.rf.60183d7e993f4e7f603c05bd0e553dce.jpg: 1 duplicate labels removed\n",
      "\u001b[34m\u001b[1mtrain: \u001b[0mWARNING ⚠️ C:\\ArmaanSeth\\Object Detection\\UIcomponentDetection\\datasets\\UI-Components-Detection-5\\train\\images\\160_png.rf.7ab7937b4333554fd95b64aeabf1e126.jpg: 3 duplicate labels removed\n",
      "\u001b[34m\u001b[1mtrain: \u001b[0mWARNING ⚠️ C:\\ArmaanSeth\\Object Detection\\UIcomponentDetection\\datasets\\UI-Components-Detection-5\\train\\images\\185_png.rf.44776187ef5b0912458f6606c29b5916.jpg: 1 duplicate labels removed\n",
      "\u001b[34m\u001b[1mtrain: \u001b[0mWARNING ⚠️ C:\\ArmaanSeth\\Object Detection\\UIcomponentDetection\\datasets\\UI-Components-Detection-5\\train\\images\\186_png.rf.77914b16eff1e4005cde0a19470b261a.jpg: 1 duplicate labels removed\n",
      "\u001b[34m\u001b[1mtrain: \u001b[0mWARNING ⚠️ C:\\ArmaanSeth\\Object Detection\\UIcomponentDetection\\datasets\\UI-Components-Detection-5\\train\\images\\188_png.rf.e289f05950dfad9d6a704659da751885.jpg: 2 duplicate labels removed\n",
      "\u001b[34m\u001b[1mtrain: \u001b[0mWARNING ⚠️ C:\\ArmaanSeth\\Object Detection\\UIcomponentDetection\\datasets\\UI-Components-Detection-5\\train\\images\\190_png.rf.aac6b9a635c5072b546a52ccdb4d1282.jpg: 1 duplicate labels removed\n",
      "\u001b[34m\u001b[1mtrain: \u001b[0mWARNING ⚠️ C:\\ArmaanSeth\\Object Detection\\UIcomponentDetection\\datasets\\UI-Components-Detection-5\\train\\images\\191_png.rf.61641c6ec44ae78d7df6ec59be22041c.jpg: 2 duplicate labels removed\n",
      "\u001b[34m\u001b[1mtrain: \u001b[0mWARNING ⚠️ C:\\ArmaanSeth\\Object Detection\\UIcomponentDetection\\datasets\\UI-Components-Detection-5\\train\\images\\317_png.rf.c8e3c9131fd6aefe22d4ded19febf021.jpg: 3 duplicate labels removed\n",
      "\u001b[34m\u001b[1mtrain: \u001b[0mWARNING ⚠️ C:\\ArmaanSeth\\Object Detection\\UIcomponentDetection\\datasets\\UI-Components-Detection-5\\train\\images\\329_png.rf.6e8c2faff174d63c9d60590d4a04f7f6.jpg: 2 duplicate labels removed\n",
      "\u001b[34m\u001b[1mtrain: \u001b[0mWARNING ⚠️ C:\\ArmaanSeth\\Object Detection\\UIcomponentDetection\\datasets\\UI-Components-Detection-5\\train\\images\\351_png.rf.732f01e54254bd7be26e11ef7315bf8f.jpg: 1 duplicate labels removed\n",
      "\u001b[34m\u001b[1mtrain: \u001b[0mWARNING ⚠️ C:\\ArmaanSeth\\Object Detection\\UIcomponentDetection\\datasets\\UI-Components-Detection-5\\train\\images\\353_png.rf.838baf6d6ccf6b75a1612b6936888edb.jpg: 2 duplicate labels removed\n",
      "\u001b[34m\u001b[1mtrain: \u001b[0mWARNING ⚠️ C:\\ArmaanSeth\\Object Detection\\UIcomponentDetection\\datasets\\UI-Components-Detection-5\\train\\images\\368_png.rf.523cb04ab082f224031857c29064cfe8.jpg: 2 duplicate labels removed\n",
      "\u001b[34m\u001b[1mtrain: \u001b[0mWARNING ⚠️ C:\\ArmaanSeth\\Object Detection\\UIcomponentDetection\\datasets\\UI-Components-Detection-5\\train\\images\\375_png.rf.dc1e22e82c4cb314e2915e996ae87593.jpg: 8 duplicate labels removed\n",
      "\u001b[34m\u001b[1mtrain: \u001b[0mWARNING ⚠️ C:\\ArmaanSeth\\Object Detection\\UIcomponentDetection\\datasets\\UI-Components-Detection-5\\train\\images\\378_png.rf.f807a29e59e64e5aaae4891d799b19ce.jpg: 1 duplicate labels removed\n",
      "\u001b[34m\u001b[1mtrain: \u001b[0mWARNING ⚠️ C:\\ArmaanSeth\\Object Detection\\UIcomponentDetection\\datasets\\UI-Components-Detection-5\\train\\images\\456_png.rf.79b95182f7a8e0006d610b54f33e200f.jpg: 1 duplicate labels removed\n",
      "\u001b[34m\u001b[1mtrain: \u001b[0mWARNING ⚠️ C:\\ArmaanSeth\\Object Detection\\UIcomponentDetection\\datasets\\UI-Components-Detection-5\\train\\images\\495_png.rf.00c756f7fdac09656999dc45a10d8f27.jpg: 1 duplicate labels removed\n",
      "\u001b[34m\u001b[1mtrain: \u001b[0mWARNING ⚠️ C:\\ArmaanSeth\\Object Detection\\UIcomponentDetection\\datasets\\UI-Components-Detection-5\\train\\images\\496_png.rf.7a77eeb05204af53995f086ea3fcab55.jpg: 1 duplicate labels removed\n",
      "\u001b[34m\u001b[1mtrain: \u001b[0mWARNING ⚠️ C:\\ArmaanSeth\\Object Detection\\UIcomponentDetection\\datasets\\UI-Components-Detection-5\\train\\images\\549_png.rf.fa143eecb00f3754d11130a892fccb03.jpg: 1 duplicate labels removed\n",
      "\u001b[34m\u001b[1mtrain: \u001b[0mWARNING ⚠️ C:\\ArmaanSeth\\Object Detection\\UIcomponentDetection\\datasets\\UI-Components-Detection-5\\train\\images\\615_png.rf.c2557e15677e98d3abc1ebb374d14dad.jpg: 22 duplicate labels removed\n",
      "\u001b[34m\u001b[1mtrain: \u001b[0mWARNING ⚠️ C:\\ArmaanSeth\\Object Detection\\UIcomponentDetection\\datasets\\UI-Components-Detection-5\\train\\images\\617_png.rf.ba263526a490490796fdd0e29752451c.jpg: 1 duplicate labels removed\n",
      "\u001b[34m\u001b[1mtrain: \u001b[0mWARNING ⚠️ C:\\ArmaanSeth\\Object Detection\\UIcomponentDetection\\datasets\\UI-Components-Detection-5\\train\\images\\625_png.rf.29e8c362c5a3e55c0be5dd7abce0f6e1.jpg: 1 duplicate labels removed\n",
      "\u001b[34m\u001b[1mtrain: \u001b[0mWARNING ⚠️ C:\\ArmaanSeth\\Object Detection\\UIcomponentDetection\\datasets\\UI-Components-Detection-5\\train\\images\\643_png.rf.1075f3dcea056671995ef280defa789b.jpg: 43 duplicate labels removed\n",
      "\u001b[34m\u001b[1mtrain: \u001b[0mWARNING ⚠️ C:\\ArmaanSeth\\Object Detection\\UIcomponentDetection\\datasets\\UI-Components-Detection-5\\train\\images\\655_png.rf.7f619925aeb91d1be8acba18f52fb5c5.jpg: 5 duplicate labels removed\n",
      "\u001b[34m\u001b[1mtrain: \u001b[0mWARNING ⚠️ C:\\ArmaanSeth\\Object Detection\\UIcomponentDetection\\datasets\\UI-Components-Detection-5\\train\\images\\656_png.rf.99dab3d3c21fe404bb7b9c6105a86c58.jpg: 3 duplicate labels removed\n",
      "\u001b[34m\u001b[1mtrain: \u001b[0mWARNING ⚠️ C:\\ArmaanSeth\\Object Detection\\UIcomponentDetection\\datasets\\UI-Components-Detection-5\\train\\images\\657_png.rf.8f54b67bfb6f7c000970f235b84c8d9d.jpg: 3 duplicate labels removed\n",
      "\u001b[34m\u001b[1mtrain: \u001b[0mWARNING ⚠️ C:\\ArmaanSeth\\Object Detection\\UIcomponentDetection\\datasets\\UI-Components-Detection-5\\train\\images\\658_png.rf.296e8afeed5a8584c8d078b8396ed565.jpg: 3 duplicate labels removed\n",
      "\u001b[34m\u001b[1mtrain: \u001b[0mWARNING ⚠️ C:\\ArmaanSeth\\Object Detection\\UIcomponentDetection\\datasets\\UI-Components-Detection-5\\train\\images\\660_png.rf.c96c0e984952e15af7e015db1f9c346a.jpg: 9 duplicate labels removed\n",
      "\u001b[34m\u001b[1mtrain: \u001b[0mWARNING ⚠️ C:\\ArmaanSeth\\Object Detection\\UIcomponentDetection\\datasets\\UI-Components-Detection-5\\train\\images\\664_png.rf.3e076f27d09305e581ffc5c7a237086b.jpg: 5 duplicate labels removed\n",
      "\u001b[34m\u001b[1mtrain: \u001b[0mWARNING ⚠️ C:\\ArmaanSeth\\Object Detection\\UIcomponentDetection\\datasets\\UI-Components-Detection-5\\train\\images\\665_png.rf.3892eed4c768e831c8cd0bf04d9bd509.jpg: 2 duplicate labels removed\n",
      "\u001b[34m\u001b[1mtrain: \u001b[0mWARNING ⚠️ C:\\ArmaanSeth\\Object Detection\\UIcomponentDetection\\datasets\\UI-Components-Detection-5\\train\\images\\666_png.rf.1472fcbab881a7eea12a1779eddb9bc9.jpg: 1 duplicate labels removed\n",
      "\u001b[34m\u001b[1mtrain: \u001b[0mWARNING ⚠️ C:\\ArmaanSeth\\Object Detection\\UIcomponentDetection\\datasets\\UI-Components-Detection-5\\train\\images\\697_png.rf.b7dc9076043ce8739452a4bed5878c96.jpg: 1 duplicate labels removed\n",
      "\u001b[34m\u001b[1mtrain: \u001b[0mWARNING ⚠️ C:\\ArmaanSeth\\Object Detection\\UIcomponentDetection\\datasets\\UI-Components-Detection-5\\train\\images\\756_png.rf.34ee93242afcb28d490298aeebaf2368.jpg: 7 duplicate labels removed\n",
      "\u001b[34m\u001b[1mtrain: \u001b[0mWARNING ⚠️ C:\\ArmaanSeth\\Object Detection\\UIcomponentDetection\\datasets\\UI-Components-Detection-5\\train\\images\\784_png.rf.fdf03dcf303dd2f040963437a30c1def.jpg: 1 duplicate labels removed\n",
      "\u001b[34m\u001b[1mtrain: \u001b[0mWARNING ⚠️ C:\\ArmaanSeth\\Object Detection\\UIcomponentDetection\\datasets\\UI-Components-Detection-5\\train\\images\\817_png.rf.de4445397daa12ca11b45c31d878d66e.jpg: 6 duplicate labels removed\n",
      "\u001b[34m\u001b[1mtrain: \u001b[0mWARNING ⚠️ C:\\ArmaanSeth\\Object Detection\\UIcomponentDetection\\datasets\\UI-Components-Detection-5\\train\\images\\872_png.rf.afe01b9fe041f15536d2ebd2ccfb1e64.jpg: 1 duplicate labels removed\n",
      "\u001b[34m\u001b[1mtrain: \u001b[0mWARNING ⚠️ C:\\ArmaanSeth\\Object Detection\\UIcomponentDetection\\datasets\\UI-Components-Detection-5\\train\\images\\90_png.rf.e651d77420ee0494811804bc2c926ab8.jpg: 1 duplicate labels removed\n",
      "\u001b[34m\u001b[1mtrain: \u001b[0mWARNING ⚠️ C:\\ArmaanSeth\\Object Detection\\UIcomponentDetection\\datasets\\UI-Components-Detection-5\\train\\images\\934_png.rf.99dbaa3d19d5889a1ddbd4b42ae837ae.jpg: 3 duplicate labels removed\n",
      "\u001b[34m\u001b[1mtrain: \u001b[0mWARNING ⚠️ C:\\ArmaanSeth\\Object Detection\\UIcomponentDetection\\datasets\\UI-Components-Detection-5\\train\\images\\986_png.rf.3dc1ab1841ab6cadbeb30d1d852df9c5.jpg: 26 duplicate labels removed\n",
      "\u001b[34m\u001b[1mtrain: \u001b[0mNew cache created: C:\\ArmaanSeth\\Object Detection\\UIcomponentDetection\\datasets\\UI-Components-Detection-5\\train\\labels.cache\n",
      "\u001b[34m\u001b[1mval: \u001b[0mWARNING ⚠️ C:\\ArmaanSeth\\Object Detection\\UIcomponentDetection\\datasets\\UI-Components-Detection-5\\valid\\images\\1019_png.rf.fea3a0004718a680308aacae4ed5ac45.jpg: 1 duplicate labels removed\n",
      "\u001b[34m\u001b[1mval: \u001b[0mWARNING ⚠️ C:\\ArmaanSeth\\Object Detection\\UIcomponentDetection\\datasets\\UI-Components-Detection-5\\valid\\images\\1065_png.rf.b6a7b1ed765321996eed4755e9f0de02.jpg: 7 duplicate labels removed\n",
      "\u001b[34m\u001b[1mval: \u001b[0mWARNING ⚠️ C:\\ArmaanSeth\\Object Detection\\UIcomponentDetection\\datasets\\UI-Components-Detection-5\\valid\\images\\1096_png.rf.be2affe4f3121bc02983de3e396d9e26.jpg: 43 duplicate labels removed\n",
      "\u001b[34m\u001b[1mval: \u001b[0mWARNING ⚠️ C:\\ArmaanSeth\\Object Detection\\UIcomponentDetection\\datasets\\UI-Components-Detection-5\\valid\\images\\149_png.rf.8ab5782ca850321bc82af2bd61601a4d.jpg: 15 duplicate labels removed\n",
      "\u001b[34m\u001b[1mval: \u001b[0mWARNING ⚠️ C:\\ArmaanSeth\\Object Detection\\UIcomponentDetection\\datasets\\UI-Components-Detection-5\\valid\\images\\164_png.rf.4493cff41ec4888a6c5d8590ca27e109.jpg: 2 duplicate labels removed\n",
      "\u001b[34m\u001b[1mval: \u001b[0mWARNING ⚠️ C:\\ArmaanSeth\\Object Detection\\UIcomponentDetection\\datasets\\UI-Components-Detection-5\\valid\\images\\189_png.rf.7041c7a7570ecbdee740f372a4429ce5.jpg: 1 duplicate labels removed\n",
      "\u001b[34m\u001b[1mval: \u001b[0mWARNING ⚠️ C:\\ArmaanSeth\\Object Detection\\UIcomponentDetection\\datasets\\UI-Components-Detection-5\\valid\\images\\194_png.rf.8121f54a0b233fa1e887f3db3afe26b0.jpg: 1 duplicate labels removed\n",
      "\u001b[34m\u001b[1mval: \u001b[0mWARNING ⚠️ C:\\ArmaanSeth\\Object Detection\\UIcomponentDetection\\datasets\\UI-Components-Detection-5\\valid\\images\\599_png.rf.695202bf2f214b76a34597c7d6fa824b.jpg: 1 duplicate labels removed\n",
      "\u001b[34m\u001b[1mval: \u001b[0mWARNING ⚠️ C:\\ArmaanSeth\\Object Detection\\UIcomponentDetection\\datasets\\UI-Components-Detection-5\\valid\\images\\659_png.rf.2882f34e5a21689186c3f42f652798c9.jpg: 3 duplicate labels removed\n",
      "\u001b[34m\u001b[1mval: \u001b[0mWARNING ⚠️ C:\\ArmaanSeth\\Object Detection\\UIcomponentDetection\\datasets\\UI-Components-Detection-5\\valid\\images\\768_png.rf.809c69ea25e1f725f3877e0872e73c9e.jpg: 1 duplicate labels removed\n",
      "\u001b[34m\u001b[1mval: \u001b[0mWARNING ⚠️ C:\\ArmaanSeth\\Object Detection\\UIcomponentDetection\\datasets\\UI-Components-Detection-5\\valid\\images\\783_png.rf.14d518a82473f3b78f5cdb6ab2f3a59b.jpg: 1 duplicate labels removed\n",
      "\u001b[34m\u001b[1mval: \u001b[0mWARNING ⚠️ C:\\ArmaanSeth\\Object Detection\\UIcomponentDetection\\datasets\\UI-Components-Detection-5\\valid\\images\\993_png.rf.38ff126cd4e566b5a25498fe0d2ee46c.jpg: 1 duplicate labels removed\n",
      "\u001b[34m\u001b[1mval: \u001b[0mNew cache created: C:\\ArmaanSeth\\Object Detection\\UIcomponentDetection\\datasets\\UI-Components-Detection-5\\valid\\labels.cache\n",
      "Plotting labels to runs\\detect\\train15\\labels.jpg... \n",
      "\u001b[34m\u001b[1moptimizer:\u001b[0m 'optimizer=auto' found, ignoring 'lr0=0.01' and 'momentum=0.937' and determining best 'optimizer', 'lr0' and 'momentum' automatically... \n",
      "\u001b[34m\u001b[1moptimizer:\u001b[0m AdamW(lr=0.000556, momentum=0.9) with parameter groups 57 weight(decay=0.0), 64 weight(decay=0.0005), 63 bias(decay=0.0)\n",
      "Image sizes 800 train, 800 val\n",
      "Using 8 dataloader workers\n",
      "Logging results to \u001b[1mruns\\detect\\train15\u001b[0m\n",
      "Starting training for 25 epochs...\n",
      "\n",
      "      Epoch    GPU_mem   box_loss   cls_loss   dfl_loss  Instances       Size\n"
     ]
    },
    {
     "name": "stderr",
     "output_type": "stream",
     "text": [
      "\n",
      "  0%|          | 0.00/755k [00:00<?, ?B/s]\n",
      "100%|██████████| 755k/755k [00:00<00:00, 23.0MB/s]\n",
      "\n",
      "\u001b[34m\u001b[1mtrain: \u001b[0mScanning C:\\ArmaanSeth\\Object Detection\\UIcomponentDetection\\datasets\\UI-Components-Detection-5\\train\\labels...:   0%|          | 0/1486 [00:00<?, ?it/s]\n",
      "\u001b[34m\u001b[1mtrain: \u001b[0mScanning C:\\ArmaanSeth\\Object Detection\\UIcomponentDetection\\datasets\\UI-Components-Detection-5\\train\\labels... 124 images, 0 backgrounds, 0 corrupt:   8%|▊         | 124/1486 [00:00<00:01, 1220.63it/s]\n",
      "\u001b[34m\u001b[1mtrain: \u001b[0mScanning C:\\ArmaanSeth\\Object Detection\\UIcomponentDetection\\datasets\\UI-Components-Detection-5\\train\\labels... 316 images, 0 backgrounds, 0 corrupt:  21%|██▏       | 316/1486 [00:00<00:00, 1494.85it/s]\n",
      "\u001b[34m\u001b[1mtrain: \u001b[0mScanning C:\\ArmaanSeth\\Object Detection\\UIcomponentDetection\\datasets\\UI-Components-Detection-5\\train\\labels... 509 images, 0 backgrounds, 0 corrupt:  34%|███▍      | 509/1486 [00:00<00:00, 1677.49it/s]\n",
      "\u001b[34m\u001b[1mtrain: \u001b[0mScanning C:\\ArmaanSeth\\Object Detection\\UIcomponentDetection\\datasets\\UI-Components-Detection-5\\train\\labels... 693 images, 0 backgrounds, 0 corrupt:  47%|████▋     | 693/1486 [00:00<00:00, 1733.08it/s]\n",
      "\u001b[34m\u001b[1mtrain: \u001b[0mScanning C:\\ArmaanSeth\\Object Detection\\UIcomponentDetection\\datasets\\UI-Components-Detection-5\\train\\labels... 888 images, 0 backgrounds, 0 corrupt:  60%|█████▉    | 888/1486 [00:00<00:00, 1809.41it/s]\n",
      "\u001b[34m\u001b[1mtrain: \u001b[0mScanning C:\\ArmaanSeth\\Object Detection\\UIcomponentDetection\\datasets\\UI-Components-Detection-5\\train\\labels... 1075 images, 1 backgrounds, 0 corrupt:  72%|███████▏  | 1075/1486 [00:00<00:00, 1829.67it/s]\n",
      "\u001b[34m\u001b[1mtrain: \u001b[0mScanning C:\\ArmaanSeth\\Object Detection\\UIcomponentDetection\\datasets\\UI-Components-Detection-5\\train\\labels... 1274 images, 1 backgrounds, 0 corrupt:  86%|████████▌ | 1274/1486 [00:00<00:00, 1869.59it/s]\n",
      "\u001b[34m\u001b[1mtrain: \u001b[0mScanning C:\\ArmaanSeth\\Object Detection\\UIcomponentDetection\\datasets\\UI-Components-Detection-5\\train\\labels... 1486 images, 2 backgrounds, 0 corrupt: 100%|██████████| 1486/1486 [00:00<00:00, 1816.04it/s]\n",
      "\n",
      "\u001b[34m\u001b[1mval: \u001b[0mScanning C:\\ArmaanSeth\\Object Detection\\UIcomponentDetection\\datasets\\UI-Components-Detection-5\\valid\\labels...:   0%|          | 0/425 [00:00<?, ?it/s]\n",
      "\u001b[34m\u001b[1mval: \u001b[0mScanning C:\\ArmaanSeth\\Object Detection\\UIcomponentDetection\\datasets\\UI-Components-Detection-5\\valid\\labels... 97 images, 0 backgrounds, 0 corrupt:  23%|██▎       | 97/425 [00:00<00:00, 961.28it/s]\n",
      "\u001b[34m\u001b[1mval: \u001b[0mScanning C:\\ArmaanSeth\\Object Detection\\UIcomponentDetection\\datasets\\UI-Components-Detection-5\\valid\\labels... 199 images, 0 backgrounds, 0 corrupt:  47%|████▋     | 199/425 [00:00<00:00, 990.55it/s]\n",
      "\u001b[34m\u001b[1mval: \u001b[0mScanning C:\\ArmaanSeth\\Object Detection\\UIcomponentDetection\\datasets\\UI-Components-Detection-5\\valid\\labels... 317 images, 0 backgrounds, 0 corrupt:  75%|███████▍  | 317/425 [00:00<00:00, 992.28it/s]\n",
      "\u001b[34m\u001b[1mval: \u001b[0mScanning C:\\ArmaanSeth\\Object Detection\\UIcomponentDetection\\datasets\\UI-Components-Detection-5\\valid\\labels... 425 images, 0 backgrounds, 0 corrupt: 100%|██████████| 425/425 [00:00<00:00, 1124.26it/s]\n",
      "\n",
      "  0%|          | 0/93 [00:00<?, ?it/s]\n",
      "       1/25      3.26G      2.497      4.532      1.867        396        800:   0%|          | 0/93 [00:02<?, ?it/s]\n",
      "       1/25      3.26G      2.497      4.532      1.867        396        800:   1%|          | 1/93 [00:02<04:28,  2.92s/it]\n",
      "       1/25      3.41G      2.447      4.523      1.842        425        800:   1%|          | 1/93 [00:03<04:28,  2.92s/it]\n",
      "       1/25      3.41G      2.447      4.523      1.842        425        800:   2%|▏         | 2/93 [00:03<02:14,  1.48s/it]\n",
      "       1/25      3.59G      2.359      4.501      1.783        462        800:   2%|▏         | 2/93 [00:03<02:14,  1.48s/it]\n",
      "       1/25      3.59G      2.359      4.501      1.783        462        800:   3%|▎         | 3/93 [00:03<01:28,  1.01it/s]\n",
      "       1/25      3.85G      2.536      4.545      1.899        490        800:   3%|▎         | 3/93 [00:04<01:28,  1.01it/s]\n",
      "       1/25      3.85G      2.536      4.545      1.899        490        800:   4%|▍         | 4/93 [00:04<01:12,  1.22it/s]\n",
      "       1/25      3.85G      2.505      4.563       1.86        476        800:   4%|▍         | 4/93 [00:04<01:12,  1.22it/s]\n",
      "       1/25      3.85G      2.505      4.563       1.86        476        800:   5%|▌         | 5/93 [00:04<00:57,  1.54it/s]\n",
      "       1/25      3.88G      2.466      4.565      1.829        398        800:   5%|▌         | 5/93 [00:05<00:57,  1.54it/s]\n",
      "       1/25      3.88G      2.466      4.565      1.829        398        800:   6%|▋         | 6/93 [00:05<00:51,  1.70it/s]\n",
      "       1/25      4.17G       2.46      4.558      1.826        388        800:   6%|▋         | 6/93 [00:06<00:51,  1.70it/s]\n",
      "       1/25      4.17G       2.46      4.558      1.826        388        800:   8%|▊         | 7/93 [00:06<01:13,  1.18it/s]\n",
      "       1/25      4.17G       2.46      4.558      1.826        388        800:   8%|▊         | 7/93 [00:20<04:17,  3.00s/it]\n",
      "Traceback (most recent call last):\n",
      "  File \"C:\\Users\\Armaan\\.conda\\envs\\cuda_env\\lib\\runpy.py\", line 197, in _run_module_as_main\n",
      "    return _run_code(code, main_globals, None,\n",
      "  File \"C:\\Users\\Armaan\\.conda\\envs\\cuda_env\\lib\\runpy.py\", line 87, in _run_code\n",
      "    exec(code, run_globals)\n",
      "  File \"C:\\Users\\Armaan\\.conda\\envs\\cuda_env\\Scripts\\yolo.exe\\__main__.py\", line 7, in <module>\n",
      "  File \"C:\\Users\\Armaan\\.conda\\envs\\cuda_env\\lib\\site-packages\\ultralytics\\cfg\\__init__.py\", line 567, in entrypoint\n",
      "    getattr(model, mode)(**overrides)  # default args from model\n",
      "  File \"C:\\Users\\Armaan\\.conda\\envs\\cuda_env\\lib\\site-packages\\ultralytics\\engine\\model.py\", line 391, in train\n",
      "    self.trainer.train()\n",
      "  File \"C:\\Users\\Armaan\\.conda\\envs\\cuda_env\\lib\\site-packages\\ultralytics\\engine\\trainer.py\", line 208, in train\n",
      "    self._do_train(world_size)\n",
      "  File \"C:\\Users\\Armaan\\.conda\\envs\\cuda_env\\lib\\site-packages\\ultralytics\\engine\\trainer.py\", line 376, in _do_train\n",
      "    self.loss, self.loss_items = self.model(batch)\n",
      "  File \"C:\\Users\\Armaan\\.conda\\envs\\cuda_env\\lib\\site-packages\\torch\\nn\\modules\\module.py\", line 1518, in _wrapped_call_impl\n",
      "    return self._call_impl(*args, **kwargs)\n",
      "  File \"C:\\Users\\Armaan\\.conda\\envs\\cuda_env\\lib\\site-packages\\torch\\nn\\modules\\module.py\", line 1527, in _call_impl\n",
      "    return forward_call(*args, **kwargs)\n",
      "  File \"C:\\Users\\Armaan\\.conda\\envs\\cuda_env\\lib\\site-packages\\ultralytics\\nn\\tasks.py\", line 79, in forward\n",
      "    return self.loss(x, *args, **kwargs)\n",
      "  File \"C:\\Users\\Armaan\\.conda\\envs\\cuda_env\\lib\\site-packages\\ultralytics\\nn\\tasks.py\", line 258, in loss\n",
      "    return self.criterion(preds, batch)\n",
      "  File \"C:\\Users\\Armaan\\.conda\\envs\\cuda_env\\lib\\site-packages\\ultralytics\\utils\\loss.py\", line 217, in __call__\n",
      "    _, target_bboxes, target_scores, fg_mask, _ = self.assigner(\n",
      "  File \"C:\\Users\\Armaan\\.conda\\envs\\cuda_env\\lib\\site-packages\\torch\\nn\\modules\\module.py\", line 1518, in _wrapped_call_impl\n",
      "    return self._call_impl(*args, **kwargs)\n",
      "  File \"C:\\Users\\Armaan\\.conda\\envs\\cuda_env\\lib\\site-packages\\torch\\nn\\modules\\module.py\", line 1527, in _call_impl\n",
      "    return forward_call(*args, **kwargs)\n",
      "  File \"C:\\Users\\Armaan\\.conda\\envs\\cuda_env\\lib\\site-packages\\torch\\utils\\_contextlib.py\", line 115, in decorate_context\n",
      "    return func(*args, **kwargs)\n",
      "  File \"C:\\Users\\Armaan\\.conda\\envs\\cuda_env\\lib\\site-packages\\ultralytics\\utils\\tal.py\", line 72, in forward\n",
      "    mask_pos, align_metric, overlaps = self.get_pos_mask(\n",
      "  File \"C:\\Users\\Armaan\\.conda\\envs\\cuda_env\\lib\\site-packages\\ultralytics\\utils\\tal.py\", line 92, in get_pos_mask\n",
      "    mask_in_gts = self.select_candidates_in_gts(anc_points, gt_bboxes)\n",
      "  File \"C:\\Users\\Armaan\\.conda\\envs\\cuda_env\\lib\\site-packages\\ultralytics\\utils\\tal.py\", line 227, in select_candidates_in_gts\n",
      "    bbox_deltas = torch.cat((xy_centers[None] - lt, rb - xy_centers[None]), dim=2).view(bs, n_boxes, n_anchors, -1)\n",
      "torch.cuda.OutOfMemoryError: CUDA out of memory. Tried to allocate 3.68 GiB. GPU 0 has a total capacty of 4.00 GiB of which 0 bytes is free. Of the allocated memory 6.38 GiB is allocated by PyTorch, and 62.20 MiB is reserved by PyTorch but unallocated. If reserved but unallocated memory is large try setting max_split_size_mb to avoid fragmentation.  See documentation for Memory Management and PYTORCH_CUDA_ALLOC_CONF\n"
     ]
    }
   ],
   "source": [
    "!yolo task=detect mode=train model=yolov8n.pt data=\"data.yaml\" epochs=25 imgsz=800"
   ]
  },
  {
   "cell_type": "code",
   "execution_count": null,
   "metadata": {},
   "outputs": [],
   "source": []
  }
 ],
 "metadata": {
  "kernelspec": {
   "display_name": "cuda_env",
   "language": "python",
   "name": "python3"
  },
  "language_info": {
   "codemirror_mode": {
    "name": "ipython",
    "version": 3
   },
   "file_extension": ".py",
   "mimetype": "text/x-python",
   "name": "python",
   "nbconvert_exporter": "python",
   "pygments_lexer": "ipython3",
   "version": "3.9.0"
  }
 },
 "nbformat": 4,
 "nbformat_minor": 2
}
